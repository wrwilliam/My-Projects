{
  "cells": [
    {
      "cell_type": "markdown",
      "metadata": {
        "id": "view-in-github",
        "colab_type": "text"
      },
      "source": [
        "<a href=\"https://colab.research.google.com/github/wrwilliam/My-Projects/blob/main/WeiRuan_assignment2_ok_version.ipynb\" target=\"_parent\"><img src=\"https://colab.research.google.com/assets/colab-badge.svg\" alt=\"Open In Colab\"/></a>"
      ]
    },
    {
      "cell_type": "markdown",
      "id": "59ca8f28",
      "metadata": {
        "id": "59ca8f28"
      },
      "source": [
        "Assignment 2 \n",
        "Wei Ruan\n",
        "001532991"
      ]
    },
    {
      "cell_type": "raw",
      "id": "bc5a4db7",
      "metadata": {
        "id": "bc5a4db7"
      },
      "source": [
        "Implement a single neuron neural network, aka, the logistic regression unit. Use Log Loss Function, write code to carry out stochastic gradient descent (SGD) for optimization, and then write a different activation function i.e., replace the sigmoid non-linearity by ReLu or tan. Ideally, implement as a set of functions"
      ]
    },
    {
      "cell_type": "markdown",
      "id": "e20d3e24",
      "metadata": {
        "id": "e20d3e24"
      },
      "source": [
        "**Importing Libraries**"
      ]
    },
    {
      "cell_type": "code",
      "execution_count": 1,
      "id": "a8b69f35",
      "metadata": {
        "id": "a8b69f35"
      },
      "outputs": [],
      "source": [
        "import numpy as np\n",
        "import pandas as pd\n",
        "import matplotlib.pyplot as plt\n",
        "import seaborn as sns\n",
        "\n"
      ]
    },
    {
      "cell_type": "code",
      "execution_count": 2,
      "id": "3b2415d9",
      "metadata": {
        "id": "3b2415d9"
      },
      "outputs": [],
      "source": [
        "#datset uploaded in my github repo\n",
        "url=\"https://raw.githubusercontent.com/wrwilliam/my_data7390/main/Titanic_full.csv\""
      ]
    },
    {
      "cell_type": "code",
      "execution_count": 3,
      "id": "40f78acb",
      "metadata": {
        "id": "40f78acb",
        "scrolled": true
      },
      "outputs": [],
      "source": [
        "# loading data to colab platform\n",
        "df=pd.read_csv(url,encoding=\"unicode_escape\")\n",
        "# df=pd.read_csv(url)"
      ]
    },
    {
      "cell_type": "code",
      "execution_count": 4,
      "id": "o-MyJ6q88VlU",
      "metadata": {
        "colab": {
          "base_uri": "https://localhost:8080/",
          "height": 206
        },
        "id": "o-MyJ6q88VlU",
        "outputId": "b4d7759f-5922-4a71-91c1-d33b5e327d7c"
      },
      "outputs": [
        {
          "output_type": "execute_result",
          "data": {
            "text/plain": [
              "   PassengerId  Survived  Pclass  \\\n",
              "0            1         0       3   \n",
              "1            2         1       1   \n",
              "2            3         1       3   \n",
              "3            4         1       1   \n",
              "4            5         0       3   \n",
              "\n",
              "                                                Name     Sex   Age  SibSp  \\\n",
              "0                            Braund, Mr. Owen Harris    male  22.0      1   \n",
              "1  Cumings, Mrs. John Bradley (Florence Briggs Th...  female  38.0      1   \n",
              "2                             Heikkinen, Miss. Laina  female  26.0      0   \n",
              "3       Futrelle, Mrs. Jacques Heath (Lily May Peel)  female  35.0      1   \n",
              "4                           Allen, Mr. William Henry    male  35.0      0   \n",
              "\n",
              "   Parch            Ticket     Fare Cabin Embarked  \n",
              "0      0         A/5 21171   7.2500   NaN        S  \n",
              "1      0          PC 17599  71.2833   C85        C  \n",
              "2      0  STON/O2. 3101282   7.9250   NaN        S  \n",
              "3      0            113803  53.1000  C123        S  \n",
              "4      0            373450   8.0500   NaN        S  "
            ],
            "text/html": [
              "\n",
              "  <div id=\"df-d945d30b-dd24-47d1-8323-d93adc7e7bef\">\n",
              "    <div class=\"colab-df-container\">\n",
              "      <div>\n",
              "<style scoped>\n",
              "    .dataframe tbody tr th:only-of-type {\n",
              "        vertical-align: middle;\n",
              "    }\n",
              "\n",
              "    .dataframe tbody tr th {\n",
              "        vertical-align: top;\n",
              "    }\n",
              "\n",
              "    .dataframe thead th {\n",
              "        text-align: right;\n",
              "    }\n",
              "</style>\n",
              "<table border=\"1\" class=\"dataframe\">\n",
              "  <thead>\n",
              "    <tr style=\"text-align: right;\">\n",
              "      <th></th>\n",
              "      <th>PassengerId</th>\n",
              "      <th>Survived</th>\n",
              "      <th>Pclass</th>\n",
              "      <th>Name</th>\n",
              "      <th>Sex</th>\n",
              "      <th>Age</th>\n",
              "      <th>SibSp</th>\n",
              "      <th>Parch</th>\n",
              "      <th>Ticket</th>\n",
              "      <th>Fare</th>\n",
              "      <th>Cabin</th>\n",
              "      <th>Embarked</th>\n",
              "    </tr>\n",
              "  </thead>\n",
              "  <tbody>\n",
              "    <tr>\n",
              "      <th>0</th>\n",
              "      <td>1</td>\n",
              "      <td>0</td>\n",
              "      <td>3</td>\n",
              "      <td>Braund, Mr. Owen Harris</td>\n",
              "      <td>male</td>\n",
              "      <td>22.0</td>\n",
              "      <td>1</td>\n",
              "      <td>0</td>\n",
              "      <td>A/5 21171</td>\n",
              "      <td>7.2500</td>\n",
              "      <td>NaN</td>\n",
              "      <td>S</td>\n",
              "    </tr>\n",
              "    <tr>\n",
              "      <th>1</th>\n",
              "      <td>2</td>\n",
              "      <td>1</td>\n",
              "      <td>1</td>\n",
              "      <td>Cumings, Mrs. John Bradley (Florence Briggs Th...</td>\n",
              "      <td>female</td>\n",
              "      <td>38.0</td>\n",
              "      <td>1</td>\n",
              "      <td>0</td>\n",
              "      <td>PC 17599</td>\n",
              "      <td>71.2833</td>\n",
              "      <td>C85</td>\n",
              "      <td>C</td>\n",
              "    </tr>\n",
              "    <tr>\n",
              "      <th>2</th>\n",
              "      <td>3</td>\n",
              "      <td>1</td>\n",
              "      <td>3</td>\n",
              "      <td>Heikkinen, Miss. Laina</td>\n",
              "      <td>female</td>\n",
              "      <td>26.0</td>\n",
              "      <td>0</td>\n",
              "      <td>0</td>\n",
              "      <td>STON/O2. 3101282</td>\n",
              "      <td>7.9250</td>\n",
              "      <td>NaN</td>\n",
              "      <td>S</td>\n",
              "    </tr>\n",
              "    <tr>\n",
              "      <th>3</th>\n",
              "      <td>4</td>\n",
              "      <td>1</td>\n",
              "      <td>1</td>\n",
              "      <td>Futrelle, Mrs. Jacques Heath (Lily May Peel)</td>\n",
              "      <td>female</td>\n",
              "      <td>35.0</td>\n",
              "      <td>1</td>\n",
              "      <td>0</td>\n",
              "      <td>113803</td>\n",
              "      <td>53.1000</td>\n",
              "      <td>C123</td>\n",
              "      <td>S</td>\n",
              "    </tr>\n",
              "    <tr>\n",
              "      <th>4</th>\n",
              "      <td>5</td>\n",
              "      <td>0</td>\n",
              "      <td>3</td>\n",
              "      <td>Allen, Mr. William Henry</td>\n",
              "      <td>male</td>\n",
              "      <td>35.0</td>\n",
              "      <td>0</td>\n",
              "      <td>0</td>\n",
              "      <td>373450</td>\n",
              "      <td>8.0500</td>\n",
              "      <td>NaN</td>\n",
              "      <td>S</td>\n",
              "    </tr>\n",
              "  </tbody>\n",
              "</table>\n",
              "</div>\n",
              "      <button class=\"colab-df-convert\" onclick=\"convertToInteractive('df-d945d30b-dd24-47d1-8323-d93adc7e7bef')\"\n",
              "              title=\"Convert this dataframe to an interactive table.\"\n",
              "              style=\"display:none;\">\n",
              "        \n",
              "  <svg xmlns=\"http://www.w3.org/2000/svg\" height=\"24px\"viewBox=\"0 0 24 24\"\n",
              "       width=\"24px\">\n",
              "    <path d=\"M0 0h24v24H0V0z\" fill=\"none\"/>\n",
              "    <path d=\"M18.56 5.44l.94 2.06.94-2.06 2.06-.94-2.06-.94-.94-2.06-.94 2.06-2.06.94zm-11 1L8.5 8.5l.94-2.06 2.06-.94-2.06-.94L8.5 2.5l-.94 2.06-2.06.94zm10 10l.94 2.06.94-2.06 2.06-.94-2.06-.94-.94-2.06-.94 2.06-2.06.94z\"/><path d=\"M17.41 7.96l-1.37-1.37c-.4-.4-.92-.59-1.43-.59-.52 0-1.04.2-1.43.59L10.3 9.45l-7.72 7.72c-.78.78-.78 2.05 0 2.83L4 21.41c.39.39.9.59 1.41.59.51 0 1.02-.2 1.41-.59l7.78-7.78 2.81-2.81c.8-.78.8-2.07 0-2.86zM5.41 20L4 18.59l7.72-7.72 1.47 1.35L5.41 20z\"/>\n",
              "  </svg>\n",
              "      </button>\n",
              "      \n",
              "  <style>\n",
              "    .colab-df-container {\n",
              "      display:flex;\n",
              "      flex-wrap:wrap;\n",
              "      gap: 12px;\n",
              "    }\n",
              "\n",
              "    .colab-df-convert {\n",
              "      background-color: #E8F0FE;\n",
              "      border: none;\n",
              "      border-radius: 50%;\n",
              "      cursor: pointer;\n",
              "      display: none;\n",
              "      fill: #1967D2;\n",
              "      height: 32px;\n",
              "      padding: 0 0 0 0;\n",
              "      width: 32px;\n",
              "    }\n",
              "\n",
              "    .colab-df-convert:hover {\n",
              "      background-color: #E2EBFA;\n",
              "      box-shadow: 0px 1px 2px rgba(60, 64, 67, 0.3), 0px 1px 3px 1px rgba(60, 64, 67, 0.15);\n",
              "      fill: #174EA6;\n",
              "    }\n",
              "\n",
              "    [theme=dark] .colab-df-convert {\n",
              "      background-color: #3B4455;\n",
              "      fill: #D2E3FC;\n",
              "    }\n",
              "\n",
              "    [theme=dark] .colab-df-convert:hover {\n",
              "      background-color: #434B5C;\n",
              "      box-shadow: 0px 1px 3px 1px rgba(0, 0, 0, 0.15);\n",
              "      filter: drop-shadow(0px 1px 2px rgba(0, 0, 0, 0.3));\n",
              "      fill: #FFFFFF;\n",
              "    }\n",
              "  </style>\n",
              "\n",
              "      <script>\n",
              "        const buttonEl =\n",
              "          document.querySelector('#df-d945d30b-dd24-47d1-8323-d93adc7e7bef button.colab-df-convert');\n",
              "        buttonEl.style.display =\n",
              "          google.colab.kernel.accessAllowed ? 'block' : 'none';\n",
              "\n",
              "        async function convertToInteractive(key) {\n",
              "          const element = document.querySelector('#df-d945d30b-dd24-47d1-8323-d93adc7e7bef');\n",
              "          const dataTable =\n",
              "            await google.colab.kernel.invokeFunction('convertToInteractive',\n",
              "                                                     [key], {});\n",
              "          if (!dataTable) return;\n",
              "\n",
              "          const docLinkHtml = 'Like what you see? Visit the ' +\n",
              "            '<a target=\"_blank\" href=https://colab.research.google.com/notebooks/data_table.ipynb>data table notebook</a>'\n",
              "            + ' to learn more about interactive tables.';\n",
              "          element.innerHTML = '';\n",
              "          dataTable['output_type'] = 'display_data';\n",
              "          await google.colab.output.renderOutput(dataTable, element);\n",
              "          const docLink = document.createElement('div');\n",
              "          docLink.innerHTML = docLinkHtml;\n",
              "          element.appendChild(docLink);\n",
              "        }\n",
              "      </script>\n",
              "    </div>\n",
              "  </div>\n",
              "  "
            ]
          },
          "metadata": {},
          "execution_count": 4
        }
      ],
      "source": [
        "df.head()"
      ]
    },
    {
      "cell_type": "code",
      "execution_count": 5,
      "id": "b6e06115",
      "metadata": {
        "colab": {
          "base_uri": "https://localhost:8080/"
        },
        "id": "b6e06115",
        "outputId": "b0692c72-e2b8-4c32-8a97-9694bdfb062f"
      },
      "outputs": [
        {
          "output_type": "stream",
          "name": "stdout",
          "text": [
            "<class 'pandas.core.frame.DataFrame'>\n",
            "RangeIndex: 1309 entries, 0 to 1308\n",
            "Data columns (total 12 columns):\n",
            " #   Column       Non-Null Count  Dtype  \n",
            "---  ------       --------------  -----  \n",
            " 0   PassengerId  1309 non-null   int64  \n",
            " 1   Survived     1309 non-null   int64  \n",
            " 2   Pclass       1309 non-null   int64  \n",
            " 3   Name         1309 non-null   object \n",
            " 4   Sex          1309 non-null   object \n",
            " 5   Age          1046 non-null   float64\n",
            " 6   SibSp        1309 non-null   int64  \n",
            " 7   Parch        1309 non-null   int64  \n",
            " 8   Ticket       1309 non-null   object \n",
            " 9   Fare         1308 non-null   float64\n",
            " 10  Cabin        295 non-null    object \n",
            " 11  Embarked     1307 non-null   object \n",
            "dtypes: float64(2), int64(5), object(5)\n",
            "memory usage: 122.8+ KB\n"
          ]
        }
      ],
      "source": [
        "df.info()"
      ]
    },
    {
      "cell_type": "code",
      "execution_count": 6,
      "id": "YNM0rXGH9EVq",
      "metadata": {
        "colab": {
          "base_uri": "https://localhost:8080/"
        },
        "id": "YNM0rXGH9EVq",
        "outputId": "40b1b543-4792-452f-ee3d-e46642d1b7fa"
      },
      "outputs": [
        {
          "output_type": "stream",
          "name": "stdout",
          "text": [
            "total number of null values : 1280\n"
          ]
        }
      ],
      "source": [
        "# checking non-null data count\n",
        "print('total number of null values : {0}'.format(df.isna().sum().sum()))"
      ]
    },
    {
      "cell_type": "code",
      "execution_count": 7,
      "id": "fy87wvIH9Edw",
      "metadata": {
        "colab": {
          "base_uri": "https://localhost:8080/",
          "height": 161
        },
        "id": "fy87wvIH9Edw",
        "outputId": "4977b7eb-f4e7-4bbd-a7f1-fefeec6e8b07"
      },
      "outputs": [
        {
          "output_type": "stream",
          "name": "stdout",
          "text": [
            "(1309, 9)\n"
          ]
        },
        {
          "output_type": "execute_result",
          "data": {
            "text/plain": [
              "   PassengerId  Survived  Pclass     Sex   Age  SibSp  Parch     Fare Embarked\n",
              "0            1         0       3    male  22.0      1      0   7.2500        S\n",
              "1            2         1       1  female  38.0      1      0  71.2833        C\n",
              "2            3         1       3  female  26.0      0      0   7.9250        S"
            ],
            "text/html": [
              "\n",
              "  <div id=\"df-621952dc-41de-460b-9323-eb746c8a8723\">\n",
              "    <div class=\"colab-df-container\">\n",
              "      <div>\n",
              "<style scoped>\n",
              "    .dataframe tbody tr th:only-of-type {\n",
              "        vertical-align: middle;\n",
              "    }\n",
              "\n",
              "    .dataframe tbody tr th {\n",
              "        vertical-align: top;\n",
              "    }\n",
              "\n",
              "    .dataframe thead th {\n",
              "        text-align: right;\n",
              "    }\n",
              "</style>\n",
              "<table border=\"1\" class=\"dataframe\">\n",
              "  <thead>\n",
              "    <tr style=\"text-align: right;\">\n",
              "      <th></th>\n",
              "      <th>PassengerId</th>\n",
              "      <th>Survived</th>\n",
              "      <th>Pclass</th>\n",
              "      <th>Sex</th>\n",
              "      <th>Age</th>\n",
              "      <th>SibSp</th>\n",
              "      <th>Parch</th>\n",
              "      <th>Fare</th>\n",
              "      <th>Embarked</th>\n",
              "    </tr>\n",
              "  </thead>\n",
              "  <tbody>\n",
              "    <tr>\n",
              "      <th>0</th>\n",
              "      <td>1</td>\n",
              "      <td>0</td>\n",
              "      <td>3</td>\n",
              "      <td>male</td>\n",
              "      <td>22.0</td>\n",
              "      <td>1</td>\n",
              "      <td>0</td>\n",
              "      <td>7.2500</td>\n",
              "      <td>S</td>\n",
              "    </tr>\n",
              "    <tr>\n",
              "      <th>1</th>\n",
              "      <td>2</td>\n",
              "      <td>1</td>\n",
              "      <td>1</td>\n",
              "      <td>female</td>\n",
              "      <td>38.0</td>\n",
              "      <td>1</td>\n",
              "      <td>0</td>\n",
              "      <td>71.2833</td>\n",
              "      <td>C</td>\n",
              "    </tr>\n",
              "    <tr>\n",
              "      <th>2</th>\n",
              "      <td>3</td>\n",
              "      <td>1</td>\n",
              "      <td>3</td>\n",
              "      <td>female</td>\n",
              "      <td>26.0</td>\n",
              "      <td>0</td>\n",
              "      <td>0</td>\n",
              "      <td>7.9250</td>\n",
              "      <td>S</td>\n",
              "    </tr>\n",
              "  </tbody>\n",
              "</table>\n",
              "</div>\n",
              "      <button class=\"colab-df-convert\" onclick=\"convertToInteractive('df-621952dc-41de-460b-9323-eb746c8a8723')\"\n",
              "              title=\"Convert this dataframe to an interactive table.\"\n",
              "              style=\"display:none;\">\n",
              "        \n",
              "  <svg xmlns=\"http://www.w3.org/2000/svg\" height=\"24px\"viewBox=\"0 0 24 24\"\n",
              "       width=\"24px\">\n",
              "    <path d=\"M0 0h24v24H0V0z\" fill=\"none\"/>\n",
              "    <path d=\"M18.56 5.44l.94 2.06.94-2.06 2.06-.94-2.06-.94-.94-2.06-.94 2.06-2.06.94zm-11 1L8.5 8.5l.94-2.06 2.06-.94-2.06-.94L8.5 2.5l-.94 2.06-2.06.94zm10 10l.94 2.06.94-2.06 2.06-.94-2.06-.94-.94-2.06-.94 2.06-2.06.94z\"/><path d=\"M17.41 7.96l-1.37-1.37c-.4-.4-.92-.59-1.43-.59-.52 0-1.04.2-1.43.59L10.3 9.45l-7.72 7.72c-.78.78-.78 2.05 0 2.83L4 21.41c.39.39.9.59 1.41.59.51 0 1.02-.2 1.41-.59l7.78-7.78 2.81-2.81c.8-.78.8-2.07 0-2.86zM5.41 20L4 18.59l7.72-7.72 1.47 1.35L5.41 20z\"/>\n",
              "  </svg>\n",
              "      </button>\n",
              "      \n",
              "  <style>\n",
              "    .colab-df-container {\n",
              "      display:flex;\n",
              "      flex-wrap:wrap;\n",
              "      gap: 12px;\n",
              "    }\n",
              "\n",
              "    .colab-df-convert {\n",
              "      background-color: #E8F0FE;\n",
              "      border: none;\n",
              "      border-radius: 50%;\n",
              "      cursor: pointer;\n",
              "      display: none;\n",
              "      fill: #1967D2;\n",
              "      height: 32px;\n",
              "      padding: 0 0 0 0;\n",
              "      width: 32px;\n",
              "    }\n",
              "\n",
              "    .colab-df-convert:hover {\n",
              "      background-color: #E2EBFA;\n",
              "      box-shadow: 0px 1px 2px rgba(60, 64, 67, 0.3), 0px 1px 3px 1px rgba(60, 64, 67, 0.15);\n",
              "      fill: #174EA6;\n",
              "    }\n",
              "\n",
              "    [theme=dark] .colab-df-convert {\n",
              "      background-color: #3B4455;\n",
              "      fill: #D2E3FC;\n",
              "    }\n",
              "\n",
              "    [theme=dark] .colab-df-convert:hover {\n",
              "      background-color: #434B5C;\n",
              "      box-shadow: 0px 1px 3px 1px rgba(0, 0, 0, 0.15);\n",
              "      filter: drop-shadow(0px 1px 2px rgba(0, 0, 0, 0.3));\n",
              "      fill: #FFFFFF;\n",
              "    }\n",
              "  </style>\n",
              "\n",
              "      <script>\n",
              "        const buttonEl =\n",
              "          document.querySelector('#df-621952dc-41de-460b-9323-eb746c8a8723 button.colab-df-convert');\n",
              "        buttonEl.style.display =\n",
              "          google.colab.kernel.accessAllowed ? 'block' : 'none';\n",
              "\n",
              "        async function convertToInteractive(key) {\n",
              "          const element = document.querySelector('#df-621952dc-41de-460b-9323-eb746c8a8723');\n",
              "          const dataTable =\n",
              "            await google.colab.kernel.invokeFunction('convertToInteractive',\n",
              "                                                     [key], {});\n",
              "          if (!dataTable) return;\n",
              "\n",
              "          const docLinkHtml = 'Like what you see? Visit the ' +\n",
              "            '<a target=\"_blank\" href=https://colab.research.google.com/notebooks/data_table.ipynb>data table notebook</a>'\n",
              "            + ' to learn more about interactive tables.';\n",
              "          element.innerHTML = '';\n",
              "          dataTable['output_type'] = 'display_data';\n",
              "          await google.colab.output.renderOutput(dataTable, element);\n",
              "          const docLink = document.createElement('div');\n",
              "          docLink.innerHTML = docLinkHtml;\n",
              "          element.appendChild(docLink);\n",
              "        }\n",
              "      </script>\n",
              "    </div>\n",
              "  </div>\n",
              "  "
            ]
          },
          "metadata": {},
          "execution_count": 7
        }
      ],
      "source": [
        "# drop unimportant information \n",
        "\n",
        "df1 = df.drop([\"Name\",\"Cabin\",\"Ticket\"],axis = 1)\n",
        "print(df1.shape)\n",
        "df1.head(3)"
      ]
    },
    {
      "cell_type": "code",
      "execution_count": 8,
      "id": "QiSyyCAT9Ek5",
      "metadata": {
        "colab": {
          "base_uri": "https://localhost:8080/",
          "height": 614
        },
        "id": "QiSyyCAT9Ek5",
        "outputId": "cd4ac68f-2c30-4b6f-c2a3-3a6b4c7be1ea"
      },
      "outputs": [
        {
          "output_type": "execute_result",
          "data": {
            "text/plain": [
              "<Axes: xlabel='Feature', ylabel='Percent missing'>"
            ]
          },
          "metadata": {},
          "execution_count": 8
        },
        {
          "output_type": "display_data",
          "data": {
            "text/plain": [
              "<Figure size 800x600 with 1 Axes>"
            ],
            "image/png": "[encoded data removed]"
          },
          "metadata": {}
        }
      ],
      "source": [
        "''' Deal with missing values'''\n",
        "\n",
        "null_vals = df1.isnull().sum()/len(df1)*100\n",
        "null_vals = pd.DataFrame(null_vals)\n",
        "null_vals.reset_index(inplace = True)\n",
        "null_vals.columns = [\"Feature\",\"Percent missing\"]\n",
        "plt.figure(figsize = (8,6))\n",
        "plt.xticks(rotation=45)\n",
        "sns.barplot(x = \"Feature\",y =\"Percent missing\",data = null_vals)"
      ]
    },
    {
      "cell_type": "code",
      "execution_count": 9,
      "id": "JOsqNKxo9Xqy",
      "metadata": {
        "colab": {
          "base_uri": "https://localhost:8080/"
        },
        "id": "JOsqNKxo9Xqy",
        "outputId": "a9611e0b-83e0-4358-d1ed-528bcd32d667"
      },
      "outputs": [
        {
          "output_type": "execute_result",
          "data": {
            "text/plain": [
              "(1309, 9)"
            ]
          },
          "metadata": {},
          "execution_count": 9
        }
      ],
      "source": [
        "df1.shape"
      ]
    },
    {
      "cell_type": "code",
      "execution_count": 10,
      "id": "HURY1IPY9Xwr",
      "metadata": {
        "colab": {
          "base_uri": "https://localhost:8080/"
        },
        "id": "HURY1IPY9Xwr",
        "outputId": "a43b9561-a01a-41fb-b482-74764ea57491"
      },
      "outputs": [
        {
          "output_type": "execute_result",
          "data": {
            "text/plain": [
              "S    914\n",
              "C    270\n",
              "Q    123\n",
              "Name: Embarked, dtype: int64"
            ]
          },
          "metadata": {},
          "execution_count": 10
        }
      ],
      "source": [
        "df1[\"Embarked\"].value_counts()"
      ]
    },
    {
      "cell_type": "code",
      "execution_count": 11,
      "id": "iYFKVlfg9X0C",
      "metadata": {
        "id": "iYFKVlfg9X0C"
      },
      "outputs": [],
      "source": [
        "# filling the null value \n",
        "df1[\"Embarked\"] = df1[\"Embarked\"].fillna('S')"
      ]
    },
    {
      "cell_type": "code",
      "execution_count": 12,
      "id": "M8rRfYH09X36",
      "metadata": {
        "colab": {
          "base_uri": "https://localhost:8080/"
        },
        "id": "M8rRfYH09X36",
        "outputId": "0970bdf0-4270-4a88-a703-832289124d7a"
      },
      "outputs": [
        {
          "output_type": "execute_result",
          "data": {
            "text/plain": [
              "PassengerId    1309\n",
              "Survived       1309\n",
              "Pclass         1309\n",
              "Sex            1309\n",
              "Age            1046\n",
              "SibSp          1309\n",
              "Parch          1309\n",
              "Fare           1308\n",
              "Embarked       1309\n",
              "dtype: int64"
            ]
          },
          "metadata": {},
          "execution_count": 12
        }
      ],
      "source": [
        "df1.count()"
      ]
    },
    {
      "cell_type": "code",
      "execution_count": 13,
      "id": "iQDUSrzi9X8B",
      "metadata": {
        "colab": {
          "base_uri": "https://localhost:8080/"
        },
        "id": "iQDUSrzi9X8B",
        "outputId": "5016e3c5-c951-4405-f433-1ec1f573fb77"
      },
      "outputs": [
        {
          "output_type": "execute_result",
          "data": {
            "text/plain": [
              "29.881137667304014"
            ]
          },
          "metadata": {},
          "execution_count": 13
        }
      ],
      "source": [
        "df1[\"Age\"].mean()"
      ]
    },
    {
      "cell_type": "code",
      "execution_count": 14,
      "id": "pKeZuigS9YAZ",
      "metadata": {
        "id": "pKeZuigS9YAZ"
      },
      "outputs": [],
      "source": [
        "# mean value to fill null \n",
        "df1[\"Age\"] = df1[\"Age\"].fillna(df1[\"Age\"].mean())"
      ]
    },
    {
      "cell_type": "code",
      "execution_count": 15,
      "id": "E0EOCgQ59yp7",
      "metadata": {
        "colab": {
          "base_uri": "https://localhost:8080/"
        },
        "id": "E0EOCgQ59yp7",
        "outputId": "3bff059a-2c8c-4d5f-bf23-133dc6b054cf"
      },
      "outputs": [
        {
          "output_type": "execute_result",
          "data": {
            "text/plain": [
              "PassengerId    1309\n",
              "Survived       1309\n",
              "Pclass         1309\n",
              "Sex            1309\n",
              "Age            1309\n",
              "SibSp          1309\n",
              "Parch          1309\n",
              "Fare           1308\n",
              "Embarked       1309\n",
              "dtype: int64"
            ]
          },
          "metadata": {},
          "execution_count": 15
        }
      ],
      "source": [
        "#check null count \n",
        "df1.count()"
      ]
    },
    {
      "cell_type": "code",
      "execution_count": 16,
      "id": "VtiTKmVO9ytq",
      "metadata": {
        "id": "VtiTKmVO9ytq"
      },
      "outputs": [],
      "source": [
        "df1[\"Fare\"] = df1[\"Fare\"].fillna(df1[\"Fare\"].mean())"
      ]
    },
    {
      "cell_type": "code",
      "execution_count": 17,
      "id": "oDvoZMvb9yxL",
      "metadata": {
        "colab": {
          "base_uri": "https://localhost:8080/"
        },
        "id": "oDvoZMvb9yxL",
        "outputId": "178ecf05-d160-4889-cc3f-c06dfe0c3ab8"
      },
      "outputs": [
        {
          "output_type": "execute_result",
          "data": {
            "text/plain": [
              "PassengerId    1309\n",
              "Survived       1309\n",
              "Pclass         1309\n",
              "Sex            1309\n",
              "Age            1309\n",
              "SibSp          1309\n",
              "Parch          1309\n",
              "Fare           1309\n",
              "Embarked       1309\n",
              "dtype: int64"
            ]
          },
          "metadata": {},
          "execution_count": 17
        }
      ],
      "source": [
        "#double check the null value for each column\n",
        "df1.count()"
      ]
    },
    {
      "cell_type": "code",
      "execution_count": 18,
      "id": "h_kV27Gt9y1a",
      "metadata": {
        "colab": {
          "base_uri": "https://localhost:8080/",
          "height": 143
        },
        "id": "h_kV27Gt9y1a",
        "outputId": "ca72b098-2fd3-40a8-910a-7f31afc4e8d5"
      },
      "outputs": [
        {
          "output_type": "execute_result",
          "data": {
            "text/plain": [
              "   PassengerId  Survived  Pclass     Sex   Age  SibSp  Parch     Fare Embarked\n",
              "0            1         0       3    male  22.0      1      0   7.2500        S\n",
              "1            2         1       1  female  38.0      1      0  71.2833        C\n",
              "2            3         1       3  female  26.0      0      0   7.9250        S"
            ],
            "text/html": [
              "\n",
              "  <div id=\"df-d18bb616-1e3a-443b-9900-2c7fa42e21d3\">\n",
              "    <div class=\"colab-df-container\">\n",
              "      <div>\n",
              "<style scoped>\n",
              "    .dataframe tbody tr th:only-of-type {\n",
              "        vertical-align: middle;\n",
              "    }\n",
              "\n",
              "    .dataframe tbody tr th {\n",
              "        vertical-align: top;\n",
              "    }\n",
              "\n",
              "    .dataframe thead th {\n",
              "        text-align: right;\n",
              "    }\n",
              "</style>\n",
              "<table border=\"1\" class=\"dataframe\">\n",
              "  <thead>\n",
              "    <tr style=\"text-align: right;\">\n",
              "      <th></th>\n",
              "      <th>PassengerId</th>\n",
              "      <th>Survived</th>\n",
              "      <th>Pclass</th>\n",
              "      <th>Sex</th>\n",
              "      <th>Age</th>\n",
              "      <th>SibSp</th>\n",
              "      <th>Parch</th>\n",
              "      <th>Fare</th>\n",
              "      <th>Embarked</th>\n",
              "    </tr>\n",
              "  </thead>\n",
              "  <tbody>\n",
              "    <tr>\n",
              "      <th>0</th>\n",
              "      <td>1</td>\n",
              "      <td>0</td>\n",
              "      <td>3</td>\n",
              "      <td>male</td>\n",
              "      <td>22.0</td>\n",
              "      <td>1</td>\n",
              "      <td>0</td>\n",
              "      <td>7.2500</td>\n",
              "      <td>S</td>\n",
              "    </tr>\n",
              "    <tr>\n",
              "      <th>1</th>\n",
              "      <td>2</td>\n",
              "      <td>1</td>\n",
              "      <td>1</td>\n",
              "      <td>female</td>\n",
              "      <td>38.0</td>\n",
              "      <td>1</td>\n",
              "      <td>0</td>\n",
              "      <td>71.2833</td>\n",
              "      <td>C</td>\n",
              "    </tr>\n",
              "    <tr>\n",
              "      <th>2</th>\n",
              "      <td>3</td>\n",
              "      <td>1</td>\n",
              "      <td>3</td>\n",
              "      <td>female</td>\n",
              "      <td>26.0</td>\n",
              "      <td>0</td>\n",
              "      <td>0</td>\n",
              "      <td>7.9250</td>\n",
              "      <td>S</td>\n",
              "    </tr>\n",
              "  </tbody>\n",
              "</table>\n",
              "</div>\n",
              "      <button class=\"colab-df-convert\" onclick=\"convertToInteractive('df-d18bb616-1e3a-443b-9900-2c7fa42e21d3')\"\n",
              "              title=\"Convert this dataframe to an interactive table.\"\n",
              "              style=\"display:none;\">\n",
              "        \n",
              "  <svg xmlns=\"http://www.w3.org/2000/svg\" height=\"24px\"viewBox=\"0 0 24 24\"\n",
              "       width=\"24px\">\n",
              "    <path d=\"M0 0h24v24H0V0z\" fill=\"none\"/>\n",
              "    <path d=\"M18.56 5.44l.94 2.06.94-2.06 2.06-.94-2.06-.94-.94-2.06-.94 2.06-2.06.94zm-11 1L8.5 8.5l.94-2.06 2.06-.94-2.06-.94L8.5 2.5l-.94 2.06-2.06.94zm10 10l.94 2.06.94-2.06 2.06-.94-2.06-.94-.94-2.06-.94 2.06-2.06.94z\"/><path d=\"M17.41 7.96l-1.37-1.37c-.4-.4-.92-.59-1.43-.59-.52 0-1.04.2-1.43.59L10.3 9.45l-7.72 7.72c-.78.78-.78 2.05 0 2.83L4 21.41c.39.39.9.59 1.41.59.51 0 1.02-.2 1.41-.59l7.78-7.78 2.81-2.81c.8-.78.8-2.07 0-2.86zM5.41 20L4 18.59l7.72-7.72 1.47 1.35L5.41 20z\"/>\n",
              "  </svg>\n",
              "      </button>\n",
              "      \n",
              "  <style>\n",
              "    .colab-df-container {\n",
              "      display:flex;\n",
              "      flex-wrap:wrap;\n",
              "      gap: 12px;\n",
              "    }\n",
              "\n",
              "    .colab-df-convert {\n",
              "      background-color: #E8F0FE;\n",
              "      border: none;\n",
              "      border-radius: 50%;\n",
              "      cursor: pointer;\n",
              "      display: none;\n",
              "      fill: #1967D2;\n",
              "      height: 32px;\n",
              "      padding: 0 0 0 0;\n",
              "      width: 32px;\n",
              "    }\n",
              "\n",
              "    .colab-df-convert:hover {\n",
              "      background-color: #E2EBFA;\n",
              "      box-shadow: 0px 1px 2px rgba(60, 64, 67, 0.3), 0px 1px 3px 1px rgba(60, 64, 67, 0.15);\n",
              "      fill: #174EA6;\n",
              "    }\n",
              "\n",
              "    [theme=dark] .colab-df-convert {\n",
              "      background-color: #3B4455;\n",
              "      fill: #D2E3FC;\n",
              "    }\n",
              "\n",
              "    [theme=dark] .colab-df-convert:hover {\n",
              "      background-color: #434B5C;\n",
              "      box-shadow: 0px 1px 3px 1px rgba(0, 0, 0, 0.15);\n",
              "      filter: drop-shadow(0px 1px 2px rgba(0, 0, 0, 0.3));\n",
              "      fill: #FFFFFF;\n",
              "    }\n",
              "  </style>\n",
              "\n",
              "      <script>\n",
              "        const buttonEl =\n",
              "          document.querySelector('#df-d18bb616-1e3a-443b-9900-2c7fa42e21d3 button.colab-df-convert');\n",
              "        buttonEl.style.display =\n",
              "          google.colab.kernel.accessAllowed ? 'block' : 'none';\n",
              "\n",
              "        async function convertToInteractive(key) {\n",
              "          const element = document.querySelector('#df-d18bb616-1e3a-443b-9900-2c7fa42e21d3');\n",
              "          const dataTable =\n",
              "            await google.colab.kernel.invokeFunction('convertToInteractive',\n",
              "                                                     [key], {});\n",
              "          if (!dataTable) return;\n",
              "\n",
              "          const docLinkHtml = 'Like what you see? Visit the ' +\n",
              "            '<a target=\"_blank\" href=https://colab.research.google.com/notebooks/data_table.ipynb>data table notebook</a>'\n",
              "            + ' to learn more about interactive tables.';\n",
              "          element.innerHTML = '';\n",
              "          dataTable['output_type'] = 'display_data';\n",
              "          await google.colab.output.renderOutput(dataTable, element);\n",
              "          const docLink = document.createElement('div');\n",
              "          docLink.innerHTML = docLinkHtml;\n",
              "          element.appendChild(docLink);\n",
              "        }\n",
              "      </script>\n",
              "    </div>\n",
              "  </div>\n",
              "  "
            ]
          },
          "metadata": {},
          "execution_count": 18
        }
      ],
      "source": [
        "df1.head(3)"
      ]
    },
    {
      "cell_type": "code",
      "execution_count": 19,
      "id": "-C-WW9ZD-DRc",
      "metadata": {
        "id": "-C-WW9ZD-DRc"
      },
      "outputs": [],
      "source": [
        "#dealing with text information, convert to number classification\n",
        "\n",
        "df1[\"Sex\"] = df1[\"Sex\"].map({\"male\":0,\"female\":1})"
      ]
    },
    {
      "cell_type": "code",
      "execution_count": 20,
      "id": "dDEYG2LP-DVS",
      "metadata": {
        "id": "dDEYG2LP-DVS"
      },
      "outputs": [],
      "source": [
        "# d={'C':0,'S':1,'Q':2}\n",
        "df1[\"Embarked\"] = df1[\"Embarked\"].map({'C':0,'S':1,'Q':2})"
      ]
    },
    {
      "cell_type": "code",
      "execution_count": 21,
      "id": "hPiwrnJe-DZC",
      "metadata": {
        "colab": {
          "base_uri": "https://localhost:8080/",
          "height": 206
        },
        "id": "hPiwrnJe-DZC",
        "outputId": "c60f1616-895c-41cc-b684-57257f25d324"
      },
      "outputs": [
        {
          "output_type": "execute_result",
          "data": {
            "text/plain": [
              "   PassengerId  Survived  Pclass  Sex   Age  SibSp  Parch     Fare  Embarked\n",
              "0            1         0       3    0  22.0      1      0   7.2500         1\n",
              "1            2         1       1    1  38.0      1      0  71.2833         0\n",
              "2            3         1       3    1  26.0      0      0   7.9250         1\n",
              "3            4         1       1    1  35.0      1      0  53.1000         1\n",
              "4            5         0       3    0  35.0      0      0   8.0500         1"
            ],
            "text/html": [
              "\n",
              "  <div id=\"df-78068760-f131-48bb-8680-3b1a0ab23aec\">\n",
              "    <div class=\"colab-df-container\">\n",
              "      <div>\n",
              "<style scoped>\n",
              "    .dataframe tbody tr th:only-of-type {\n",
              "        vertical-align: middle;\n",
              "    }\n",
              "\n",
              "    .dataframe tbody tr th {\n",
              "        vertical-align: top;\n",
              "    }\n",
              "\n",
              "    .dataframe thead th {\n",
              "        text-align: right;\n",
              "    }\n",
              "</style>\n",
              "<table border=\"1\" class=\"dataframe\">\n",
              "  <thead>\n",
              "    <tr style=\"text-align: right;\">\n",
              "      <th></th>\n",
              "      <th>PassengerId</th>\n",
              "      <th>Survived</th>\n",
              "      <th>Pclass</th>\n",
              "      <th>Sex</th>\n",
              "      <th>Age</th>\n",
              "      <th>SibSp</th>\n",
              "      <th>Parch</th>\n",
              "      <th>Fare</th>\n",
              "      <th>Embarked</th>\n",
              "    </tr>\n",
              "  </thead>\n",
              "  <tbody>\n",
              "    <tr>\n",
              "      <th>0</th>\n",
              "      <td>1</td>\n",
              "      <td>0</td>\n",
              "      <td>3</td>\n",
              "      <td>0</td>\n",
              "      <td>22.0</td>\n",
              "      <td>1</td>\n",
              "      <td>0</td>\n",
              "      <td>7.2500</td>\n",
              "      <td>1</td>\n",
              "    </tr>\n",
              "    <tr>\n",
              "      <th>1</th>\n",
              "      <td>2</td>\n",
              "      <td>1</td>\n",
              "      <td>1</td>\n",
              "      <td>1</td>\n",
              "      <td>38.0</td>\n",
              "      <td>1</td>\n",
              "      <td>0</td>\n",
              "      <td>71.2833</td>\n",
              "      <td>0</td>\n",
              "    </tr>\n",
              "    <tr>\n",
              "      <th>2</th>\n",
              "      <td>3</td>\n",
              "      <td>1</td>\n",
              "      <td>3</td>\n",
              "      <td>1</td>\n",
              "      <td>26.0</td>\n",
              "      <td>0</td>\n",
              "      <td>0</td>\n",
              "      <td>7.9250</td>\n",
              "      <td>1</td>\n",
              "    </tr>\n",
              "    <tr>\n",
              "      <th>3</th>\n",
              "      <td>4</td>\n",
              "      <td>1</td>\n",
              "      <td>1</td>\n",
              "      <td>1</td>\n",
              "      <td>35.0</td>\n",
              "      <td>1</td>\n",
              "      <td>0</td>\n",
              "      <td>53.1000</td>\n",
              "      <td>1</td>\n",
              "    </tr>\n",
              "    <tr>\n",
              "      <th>4</th>\n",
              "      <td>5</td>\n",
              "      <td>0</td>\n",
              "      <td>3</td>\n",
              "      <td>0</td>\n",
              "      <td>35.0</td>\n",
              "      <td>0</td>\n",
              "      <td>0</td>\n",
              "      <td>8.0500</td>\n",
              "      <td>1</td>\n",
              "    </tr>\n",
              "  </tbody>\n",
              "</table>\n",
              "</div>\n",
              "      <button class=\"colab-df-convert\" onclick=\"convertToInteractive('df-78068760-f131-48bb-8680-3b1a0ab23aec')\"\n",
              "              title=\"Convert this dataframe to an interactive table.\"\n",
              "              style=\"display:none;\">\n",
              "        \n",
              "  <svg xmlns=\"http://www.w3.org/2000/svg\" height=\"24px\"viewBox=\"0 0 24 24\"\n",
              "       width=\"24px\">\n",
              "    <path d=\"M0 0h24v24H0V0z\" fill=\"none\"/>\n",
              "    <path d=\"M18.56 5.44l.94 2.06.94-2.06 2.06-.94-2.06-.94-.94-2.06-.94 2.06-2.06.94zm-11 1L8.5 8.5l.94-2.06 2.06-.94-2.06-.94L8.5 2.5l-.94 2.06-2.06.94zm10 10l.94 2.06.94-2.06 2.06-.94-2.06-.94-.94-2.06-.94 2.06-2.06.94z\"/><path d=\"M17.41 7.96l-1.37-1.37c-.4-.4-.92-.59-1.43-.59-.52 0-1.04.2-1.43.59L10.3 9.45l-7.72 7.72c-.78.78-.78 2.05 0 2.83L4 21.41c.39.39.9.59 1.41.59.51 0 1.02-.2 1.41-.59l7.78-7.78 2.81-2.81c.8-.78.8-2.07 0-2.86zM5.41 20L4 18.59l7.72-7.72 1.47 1.35L5.41 20z\"/>\n",
              "  </svg>\n",
              "      </button>\n",
              "      \n",
              "  <style>\n",
              "    .colab-df-container {\n",
              "      display:flex;\n",
              "      flex-wrap:wrap;\n",
              "      gap: 12px;\n",
              "    }\n",
              "\n",
              "    .colab-df-convert {\n",
              "      background-color: #E8F0FE;\n",
              "      border: none;\n",
              "      border-radius: 50%;\n",
              "      cursor: pointer;\n",
              "      display: none;\n",
              "      fill: #1967D2;\n",
              "      height: 32px;\n",
              "      padding: 0 0 0 0;\n",
              "      width: 32px;\n",
              "    }\n",
              "\n",
              "    .colab-df-convert:hover {\n",
              "      background-color: #E2EBFA;\n",
              "      box-shadow: 0px 1px 2px rgba(60, 64, 67, 0.3), 0px 1px 3px 1px rgba(60, 64, 67, 0.15);\n",
              "      fill: #174EA6;\n",
              "    }\n",
              "\n",
              "    [theme=dark] .colab-df-convert {\n",
              "      background-color: #3B4455;\n",
              "      fill: #D2E3FC;\n",
              "    }\n",
              "\n",
              "    [theme=dark] .colab-df-convert:hover {\n",
              "      background-color: #434B5C;\n",
              "      box-shadow: 0px 1px 3px 1px rgba(0, 0, 0, 0.15);\n",
              "      filter: drop-shadow(0px 1px 2px rgba(0, 0, 0, 0.3));\n",
              "      fill: #FFFFFF;\n",
              "    }\n",
              "  </style>\n",
              "\n",
              "      <script>\n",
              "        const buttonEl =\n",
              "          document.querySelector('#df-78068760-f131-48bb-8680-3b1a0ab23aec button.colab-df-convert');\n",
              "        buttonEl.style.display =\n",
              "          google.colab.kernel.accessAllowed ? 'block' : 'none';\n",
              "\n",
              "        async function convertToInteractive(key) {\n",
              "          const element = document.querySelector('#df-78068760-f131-48bb-8680-3b1a0ab23aec');\n",
              "          const dataTable =\n",
              "            await google.colab.kernel.invokeFunction('convertToInteractive',\n",
              "                                                     [key], {});\n",
              "          if (!dataTable) return;\n",
              "\n",
              "          const docLinkHtml = 'Like what you see? Visit the ' +\n",
              "            '<a target=\"_blank\" href=https://colab.research.google.com/notebooks/data_table.ipynb>data table notebook</a>'\n",
              "            + ' to learn more about interactive tables.';\n",
              "          element.innerHTML = '';\n",
              "          dataTable['output_type'] = 'display_data';\n",
              "          await google.colab.output.renderOutput(dataTable, element);\n",
              "          const docLink = document.createElement('div');\n",
              "          docLink.innerHTML = docLinkHtml;\n",
              "          element.appendChild(docLink);\n",
              "        }\n",
              "      </script>\n",
              "    </div>\n",
              "  </div>\n",
              "  "
            ]
          },
          "metadata": {},
          "execution_count": 21
        }
      ],
      "source": [
        "df1.head()"
      ]
    },
    {
      "cell_type": "code",
      "execution_count": 22,
      "id": "FaaaaSVj-DdR",
      "metadata": {
        "colab": {
          "base_uri": "https://localhost:8080/"
        },
        "id": "FaaaaSVj-DdR",
        "outputId": "b1e5f7d8-769c-43eb-b146-f17830ccd050"
      },
      "outputs": [
        {
          "output_type": "execute_result",
          "data": {
            "text/plain": [
              "(1309, 9)"
            ]
          },
          "metadata": {},
          "execution_count": 22
        }
      ],
      "source": [
        "df1.shape"
      ]
    },
    {
      "cell_type": "code",
      "execution_count": 23,
      "id": "1sfF45m6-DiV",
      "metadata": {
        "colab": {
          "base_uri": "https://localhost:8080/"
        },
        "id": "1sfF45m6-DiV",
        "outputId": "c2c0cf45-09cd-4d2d-e694-636b8a20e322"
      },
      "outputs": [
        {
          "output_type": "execute_result",
          "data": {
            "text/plain": [
              "(9, 9)"
            ]
          },
          "metadata": {},
          "execution_count": 23
        }
      ],
      "source": [
        "# show the relationship of each feature\n",
        "corr = df1.corr()\n",
        "corr.shape"
      ]
    },
    {
      "cell_type": "code",
      "execution_count": 24,
      "id": "xnd_hniv9y4s",
      "metadata": {
        "colab": {
          "base_uri": "https://localhost:8080/",
          "height": 840
        },
        "id": "xnd_hniv9y4s",
        "outputId": "7e3afcb3-2813-4449-af45-0896f2d06aa9"
      },
      "outputs": [
        {
          "output_type": "execute_result",
          "data": {
            "text/plain": [
              "<Axes: >"
            ]
          },
          "metadata": {},
          "execution_count": 24
        },
        {
          "output_type": "display_data",
          "data": {
            "text/plain": [
              "<Figure size 1200x1000 with 2 Axes>"
            ],
            "image/png": "[encoded data removed]"
          },
          "metadata": {}
        }
      ],
      "source": [
        "\n",
        "plt.figure(figsize=(12,10))\n",
        "sns.heatmap(corr, cbar=True, square= True, fmt='.1f', annot=True, annot_kws={'size':6}, cmap='RdBu')"
      ]
    },
    {
      "cell_type": "code",
      "execution_count": 25,
      "id": "lphTErQ4DJo4",
      "metadata": {
        "id": "lphTErQ4DJo4"
      },
      "outputs": [],
      "source": [
        "#separte x and y \n",
        "\n",
        "y = df1[\"Survived\"]\n",
        "X = df1.drop([\"Survived\"], axis=1)\n",
        "X = np.array(X)\n",
        "y = np.array(y)\n"
      ]
    },
    {
      "cell_type": "code",
      "execution_count": 26,
      "id": "v5MsVvv1Jp3A",
      "metadata": {
        "id": "v5MsVvv1Jp3A"
      },
      "outputs": [],
      "source": [
        "# sperate dataset into training dataset and testing dataset\n",
        "\n",
        "from sklearn.model_selection import train_test_split\n",
        "X_train,X_test,y_train,y_test=train_test_split(X,y,test_size=0.2,random_state=6)\n"
      ]
    },
    {
      "cell_type": "code",
      "execution_count": 27,
      "id": "Svp-6V3oJp9P",
      "metadata": {
        "colab": {
          "base_uri": "https://localhost:8080/"
        },
        "id": "Svp-6V3oJp9P",
        "outputId": "e8c7b870-3d4e-43a9-e2e9-d0c9548dc21d"
      },
      "outputs": [
        {
          "output_type": "execute_result",
          "data": {
            "text/plain": [
              "numpy.ndarray"
            ]
          },
          "metadata": {},
          "execution_count": 27
        }
      ],
      "source": [
        "# get the type of training dataset\n",
        "type(X_train)"
      ]
    },
    {
      "cell_type": "code",
      "execution_count": 28,
      "id": "MQqu94e0JqBH",
      "metadata": {
        "colab": {
          "base_uri": "https://localhost:8080/"
        },
        "id": "MQqu94e0JqBH",
        "outputId": "df30c68d-87de-4e41-fa74-ca71b69dd6dc"
      },
      "outputs": [
        {
          "output_type": "execute_result",
          "data": {
            "text/plain": [
              "(1047, 8)"
            ]
          },
          "metadata": {},
          "execution_count": 28
        }
      ],
      "source": [
        "X_train.shape"
      ]
    },
    {
      "cell_type": "code",
      "execution_count": 29,
      "id": "5topOiFu9pzY",
      "metadata": {
        "id": "5topOiFu9pzY"
      },
      "outputs": [],
      "source": [
        "# #perform normalization on the input data set\n",
        "input_data= X_train\n",
        "mean_data = np.mean(input_data, axis=0)\n",
        "std_data = np.std(input_data, axis=0)\n",
        "\n",
        "train_x = (X_train - mean_data)/std_data\n",
        "test_x = (X_test - mean_data)/std_data"
      ]
    },
    {
      "cell_type": "code",
      "execution_count": 30,
      "id": "BSmEvhXFJqE4",
      "metadata": {
        "colab": {
          "base_uri": "https://localhost:8080/"
        },
        "id": "BSmEvhXFJqE4",
        "outputId": "78de0edb-a051-4e54-c6e4-31e288952121"
      },
      "outputs": [
        {
          "output_type": "stream",
          "name": "stdout",
          "text": [
            "(1047,)\n",
            "1\n"
          ]
        }
      ],
      "source": [
        "#  y_train data shape\n",
        "print(y_train.shape)\n",
        "print(y_train.ndim)"
      ]
    },
    {
      "cell_type": "code",
      "execution_count": 31,
      "id": "splIq5HVJqI3",
      "metadata": {
        "colab": {
          "base_uri": "https://localhost:8080/"
        },
        "id": "splIq5HVJqI3",
        "outputId": "69efea1a-673c-4653-f965-16d7d48b8f1b"
      },
      "outputs": [
        {
          "output_type": "execute_result",
          "data": {
            "text/plain": [
              "array([[0],\n",
              "       [1],\n",
              "       [1],\n",
              "       ...,\n",
              "       [0],\n",
              "       [0],\n",
              "       [1]])"
            ]
          },
          "metadata": {},
          "execution_count": 31
        }
      ],
      "source": [
        "y_train.reshape(-1,1) "
      ]
    },
    {
      "cell_type": "code",
      "execution_count": 32,
      "id": "BrVADKOhByu1",
      "metadata": {
        "colab": {
          "base_uri": "https://localhost:8080/"
        },
        "id": "BrVADKOhByu1",
        "outputId": "8af93e0f-f1dd-4361-86f2-db23b3b4afd9"
      },
      "outputs": [
        {
          "output_type": "stream",
          "name": "stdout",
          "text": [
            "(1047,)\n",
            "1\n"
          ]
        }
      ],
      "source": [
        "print(y_train.shape)\n",
        "print(y_train.ndim)"
      ]
    },
    {
      "cell_type": "code",
      "execution_count": 33,
      "id": "OfIBr0nRJqN-",
      "metadata": {
        "colab": {
          "base_uri": "https://localhost:8080/"
        },
        "id": "OfIBr0nRJqN-",
        "outputId": "0802a0eb-5fd4-403c-9541-a760aa0c8ad6"
      },
      "outputs": [
        {
          "output_type": "stream",
          "name": "stdout",
          "text": [
            "1\n"
          ]
        }
      ],
      "source": [
        "y_test.reshape(-1,1)\n",
        "print(y_test.ndim)"
      ]
    },
    {
      "cell_type": "markdown",
      "id": "cshf7gkEMTCY",
      "metadata": {
        "id": "cshf7gkEMTCY"
      },
      "source": [
        "**Sigmoid activity Functions**"
      ]
    },
    {
      "cell_type": "code",
      "execution_count": 34,
      "id": "nctnko_ZJqgq",
      "metadata": {
        "id": "nctnko_ZJqgq"
      },
      "outputs": [],
      "source": [
        "#Defining the initial weights and bias\n",
        "weight = np.zeros(X_train.shape[1])  \n",
        "bias = 0"
      ]
    },
    {
      "cell_type": "code",
      "execution_count": 35,
      "id": "h7X5VoXQXBTd",
      "metadata": {
        "id": "h7X5VoXQXBTd"
      },
      "outputs": [],
      "source": [
        "#Defining the sigmoid function \n",
        "import math\n",
        "\n",
        "def SigmoidFun(x):\n",
        "    return 1 / (1 + math.exp(-x))"
      ]
    },
    {
      "cell_type": "code",
      "execution_count": 36,
      "id": "OhAbjhZZXBXV",
      "metadata": {
        "colab": {
          "base_uri": "https://localhost:8080/"
        },
        "id": "OhAbjhZZXBXV",
        "outputId": "09f5adda-b42d-4326-9848-80e48f008e20"
      },
      "outputs": [
        {
          "output_type": "stream",
          "name": "stdout",
          "text": [
            "90.71563725578088\n"
          ]
        }
      ],
      "source": [
        "#get loss value of each iteration \n",
        "\n",
        "from collections import defaultdict\n",
        "\n",
        "loss = 0\n",
        "y_pred = defaultdict(list)\n",
        "for i in range(X_train.shape[0]):\n",
        "    y_pred = SigmoidFun(np.dot(X_train[i],weight) + bias) # get the result from caculation \n",
        "    y = y_train[i]\n",
        "    loss += np.multiply(np.log(y_pred), y) + np.multiply(np.log(1-y_pred), 1-y)  # dot multiply \n",
        "loss = - loss/X_train.shape[1]      # get the loss value\n",
        "print(loss)"
      ]
    },
    {
      "cell_type": "code",
      "execution_count": 37,
      "id": "_wm_G0_8XBbU",
      "metadata": {
        "id": "_wm_G0_8XBbU"
      },
      "outputs": [],
      "source": [
        "# Defining the accuracy metrics \n",
        "#  to count how many value has been evaluated as same as true, and the this count divide the total number to get the accuracy.\n",
        "def metrics(y_true, predicted_y):\n",
        "    true_count = 0  # initial o value has been estimate as true\n",
        "    for i in range(len(y_true)): \n",
        "        if (y_true[i]>0.5) == (predicted_y[i]>0.5): # if the predicted possibity more than 0.5, it will be considered as true.\n",
        "            true_count += 1\n",
        "    return true_count / float(len(y_true)) * 100.0"
      ]
    },
    {
      "cell_type": "code",
      "execution_count": 38,
      "id": "0GYvi36JXBfD",
      "metadata": {
        "id": "0GYvi36JXBfD"
      },
      "outputs": [],
      "source": [
        "#Initializing hyperparameters\n",
        "initial_epoch = 100\n",
        "step_length = 0.01\n",
        "record_set = {\"training_loss\":[],\"testing_loss\":[],\"train_acc\":[],\"test_acc\":[]}"
      ]
    },
    {
      "cell_type": "code",
      "execution_count": 39,
      "id": "lFnDYmvnXBi3",
      "metadata": {
        "id": "lFnDYmvnXBi3"
      },
      "outputs": [],
      "source": [
        "# to iterate the train database and get the loss value and predicted possiblity of each round\n",
        "def fit(X_a,y_b):\n",
        "    y_pred = []  # define a prediction value list to hold each round predicted y value\n",
        "    loss = 0\n",
        "    for i in range(X_a.shape[0]):\n",
        "        y_pred_current = SigmoidFun(np.dot(X_a[i],weight) + bias)        \n",
        "        loss += np.multiply(np.log(y_pred_current), y_b[i])+ np.multiply(np.log(1-y_pred_current), 1-y_b[i])   # acculate loss value\n",
        "        y_pred.append(y_pred_current)  # add current predicted value to the list\n",
        "    loss = -loss/X_a.shape[1]   # to get finial loss of this round\n",
        "    \n",
        "    return y_pred, loss\n",
        "\n"
      ]
    },
    {
      "cell_type": "code",
      "execution_count": 39,
      "id": "6pK9DWMLXBm-",
      "metadata": {
        "id": "6pK9DWMLXBm-"
      },
      "outputs": [],
      "source": []
    },
    {
      "cell_type": "code",
      "execution_count": 40,
      "id": "Hk_YRiq8XBqj",
      "metadata": {
        "id": "Hk_YRiq8XBqj"
      },
      "outputs": [],
      "source": [
        "# update bias value \n",
        "\n",
        "def renew_bias(curr_bias):\n",
        "    init_bias = 0\n",
        "    new_w = np.zeros(len(weight))\n",
        "    for i in range(X_train.shape[0]):        \n",
        "        init_bias += (y_pred[i] - y_train[i])*(y_pred[i])*(1-y_pred[i]) #dJ/db\n",
        "        for j in range(len(weight)):\n",
        "            new_w[j] += (y_pred[i] - y_train[i])*(y_pred[i])*(1-y_pred[i])*(X_train[i][j])\n",
        "\n",
        "#Update the bias value\n",
        "    new_bias = curr_bias - init_bias*step_length/X_train.shape[0]     # \n",
        "    \n",
        "    return new_w, new_bias"
      ]
    },
    {
      "cell_type": "code",
      "execution_count": 41,
      "id": "e_uHp62pXBuk",
      "metadata": {
        "id": "e_uHp62pXBuk"
      },
      "outputs": [],
      "source": [
        "# update the weight value W\n",
        "def renew_w(new_w): \n",
        "    for i in range(len(weight)):\n",
        "        weight[i] = weight[i] - new_w[i]*step_length/X_train.shape[0]\n",
        "    \n",
        "    return weight"
      ]
    },
    {
      "cell_type": "code",
      "execution_count": 42,
      "id": "soT7AxFoXz98",
      "metadata": {
        "colab": {
          "base_uri": "https://localhost:8080/"
        },
        "id": "soT7AxFoXz98",
        "outputId": "4558a174-ed39-45f9-8778-25f08da1e4d6"
      },
      "outputs": [
        {
          "output_type": "stream",
          "name": "stdout",
          "text": [
            "===============\n",
            "Training loss:6349.0380642697855\n",
            "Training loss:3.3766162321498303\n",
            "===============\n",
            "Training loss:6326.319710771602\n",
            "Training loss:3.364953810317863\n",
            "===============\n",
            "Training loss:6303.191849974785\n",
            "Training loss:3.3530657916109496\n",
            "===============\n",
            "Training loss:6279.960803354212\n",
            "Training loss:3.3411040183969627\n",
            "===============\n",
            "Training loss:6256.948593996496\n",
            "Training loss:3.3292295414432083\n",
            "===============\n",
            "Training loss:6234.512791464164\n",
            "Training loss:3.3176228557105385\n",
            "===============\n",
            "Training loss:6213.065612177149\n",
            "Training loss:3.306493520866193\n",
            "===============\n",
            "Training loss:6192.987607193705\n",
            "Training loss:3.2960363436721205\n",
            "===============\n",
            "Training loss:6174.431174908426\n",
            "Training loss:3.2863315412053136\n",
            "===============\n",
            "Training loss:6157.227465969763\n",
            "Training loss:3.2772968629906134\n"
          ]
        }
      ],
      "source": [
        "# training data and monitoring the lossing changes\n",
        "\n",
        "for i in range(initial_epoch):\n",
        "\n",
        "    y_pred, loss = fit(X_train,y_train)\n",
        "    y_pred_test, loss_test = fit(X_test,y_test)\n",
        "       \n",
        "    loss_test = loss_test/(2*X_test.shape[0])\n",
        "    trainAcc = metrics(y_train,y_pred)\n",
        "    testAcc = metrics(y_test,y_pred_test)\n",
        "    \n",
        "    record_set[\"training_loss\"].append(loss)\n",
        "    record_set[\"testing_loss\"].append(loss_test)\n",
        "    record_set[\"train_acc\"].append(trainAcc)\n",
        "    record_set[\"test_acc\"].append(testAcc)\n",
        "    \n",
        "    \n",
        "    if i%10==5:\n",
        "\n",
        "        print(\"===============\")\n",
        "        print(f'Training loss:{loss}')\n",
        "        print(f'Training loss:{loss_test }')\n",
        "       \n",
        "    y_pred = np.array(y_pred)\n",
        "    \n",
        "    grad_w, bias = renew_bias(bias)\n",
        "    \n",
        "    weight = renew_w(grad_w)"
      ]
    },
    {
      "cell_type": "code",
      "execution_count": 43,
      "id": "fc5HlOUNX0B0",
      "metadata": {
        "id": "fc5HlOUNX0B0"
      },
      "outputs": [],
      "source": [
        "\n",
        "from sklearn.metrics import confusion_matrix\n",
        "\n",
        "y_pred_cm = np.rint(y_pred)\n",
        "\n",
        "cm = confusion_matrix(y_train, y_pred_cm, labels=[0, 1])\n"
      ]
    },
    {
      "cell_type": "code",
      "execution_count": 44,
      "id": "3f0zWUo9X0FU",
      "metadata": {
        "colab": {
          "base_uri": "https://localhost:8080/"
        },
        "id": "3f0zWUo9X0FU",
        "outputId": "3dede31e-ebdf-4d61-e4bc-67c5a2515d35"
      },
      "outputs": [
        {
          "output_type": "stream",
          "name": "stdout",
          "text": [
            "===============\n",
            "Training accuracy: 61.795606\n",
            "Validation accuracy: 60.305344\n",
            "===============\n",
            "Training accuracy: 61.795606\n",
            "Validation accuracy: 60.305344\n"
          ]
        }
      ],
      "source": [
        "\n",
        "\n",
        "for epoch in range(initial_epoch):\n",
        "  if epoch%50 == 0: \n",
        "    print(\"===============\") \n",
        "    print(\"Training accuracy: %f\" %(trainAcc))\n",
        "    print(\"Validation accuracy: %f\" %(testAcc))"
      ]
    },
    {
      "cell_type": "code",
      "execution_count": 45,
      "id": "E2aLi_AiX0JE",
      "metadata": {
        "colab": {
          "base_uri": "https://localhost:8080/"
        },
        "id": "E2aLi_AiX0JE",
        "outputId": "696bf884-fdcd-4b0f-8827-e8c8725861da"
      },
      "outputs": [
        {
          "output_type": "stream",
          "name": "stdout",
          "text": [
            "F1 score: 0.6172248803827751\n"
          ]
        }
      ],
      "source": [
        "tp = cm [0][0]\n",
        "fp = cm [1][0]\n",
        "tn = cm [1][1]\n",
        "fn = cm [0][1]\n",
        "\n",
        "precision = tp / (tp + fp)\n",
        "recall = tp / (tp + fp)\n",
        "\n",
        "f1 = 2 * (precision * recall) / (precision + recall)\n",
        "\n",
        "print(\"F1 score: {}\".format(f1,2))"
      ]
    },
    {
      "cell_type": "code",
      "execution_count": 46,
      "id": "FOkdhVm8X0Nc",
      "metadata": {
        "colab": {
          "base_uri": "https://localhost:8080/",
          "height": 430
        },
        "id": "FOkdhVm8X0Nc",
        "outputId": "eb946a30-9fb5-4177-b9ae-b89a5af69d57"
      },
      "outputs": [
        {
          "output_type": "display_data",
          "data": {
            "text/plain": [
              "<Figure size 640x480 with 1 Axes>"
            ],
            "image/png": "[encoded data removed]"
          },
          "metadata": {}
        }
      ],
      "source": [
        "plt.plot(record_set['train_acc'],label='Training Accuracy',color='red')\n",
        "plt.plot(record_set['test_acc'],label='Test Accuracy',color='green')\n",
        "plt.legend(bbox_to_anchor=(1.05, 1), loc=2, borderaxespad=0.)\n",
        "plt.show()"
      ]
    },
    {
      "cell_type": "code",
      "execution_count": 47,
      "id": "WL8ZIJPpX0Rk",
      "metadata": {
        "colab": {
          "base_uri": "https://localhost:8080/",
          "height": 430
        },
        "id": "WL8ZIJPpX0Rk",
        "outputId": "51e17b8a-f6f6-4eaa-d810-09f5e5cb453c"
      },
      "outputs": [
        {
          "output_type": "display_data",
          "data": {
            "text/plain": [
              "<Figure size 640x480 with 1 Axes>"
            ],
            "image/png": "[encoded data removed]"
          },
          "metadata": {}
        }
      ],
      "source": [
        "plt.plot(record_set['training_loss'],label='Training Loss',color='orange')\n",
        "plt.plot(record_set['testing_loss'],label='Test Loss',color='blue')\n",
        "plt.legend(bbox_to_anchor=(1.05, 1), loc=2, borderaxespad=0.)\n",
        "plt.show()"
      ]
    },
    {
      "cell_type": "code",
      "execution_count": 47,
      "id": "8JNRoOJxX0XU",
      "metadata": {
        "id": "8JNRoOJxX0XU"
      },
      "outputs": [],
      "source": []
    },
    {
      "cell_type": "markdown",
      "id": "Wq7FXZWCZgFW",
      "metadata": {
        "id": "Wq7FXZWCZgFW"
      },
      "source": [
        "**Relu active function**"
      ]
    },
    {
      "cell_type": "code",
      "execution_count": 48,
      "id": "C32IbRg6ZZlG",
      "metadata": {
        "id": "C32IbRg6ZZlG"
      },
      "outputs": [],
      "source": [
        "def ReLu(x):\n",
        "    return max(0.0, x)"
      ]
    },
    {
      "cell_type": "code",
      "execution_count": 49,
      "id": "14IgUthMZZo2",
      "metadata": {
        "id": "14IgUthMZZo2"
      },
      "outputs": [],
      "source": [
        "loss = 0\n",
        "y_pred = defaultdict(list)\n",
        "for i in range(X_train.shape[0]):\n",
        "    y_pred = ReLu(np.dot(X_train[i],weight) + bias)\n",
        "    y = y_train[i]\n",
        "    loss += (y - y_pred)*(y - y_pred)\n",
        "loss = loss/2"
      ]
    },
    {
      "cell_type": "code",
      "execution_count": 50,
      "id": "RcWQhfR4ZZsl",
      "metadata": {
        "id": "RcWQhfR4ZZsl"
      },
      "outputs": [],
      "source": [
        "#training dataset\n",
        "def fit_relu(X_a,y_a):\n",
        "    y_pred = []\n",
        "    loss = 0\n",
        "    for i in range(X_a.shape[0]):\n",
        "        y_pred_temp = ReLu(np.dot(X_a[i],weight) + bias)        \n",
        "        loss += (y_a[i] - y_pred_temp)*(y_a[i] - y_pred_temp) \n",
        "        y_pred.append(y_pred_temp)\n",
        "    loss = loss/(2 * X_a.shape[0])\n",
        "    \n",
        "    return y_pred, loss\n"
      ]
    },
    {
      "cell_type": "code",
      "execution_count": 51,
      "id": "T17eBQ4zZZ0N",
      "metadata": {
        "colab": {
          "base_uri": "https://localhost:8080/"
        },
        "id": "T17eBQ4zZZ0N",
        "outputId": "ae231d7d-9e3e-415b-f13f-3d70e3fa2ad3"
      },
      "outputs": [
        {
          "output_type": "stream",
          "name": "stdout",
          "text": [
            "Training loss:0.191294\n",
            "test loss:0.000375\n",
            "Training loss:0.191252\n",
            "test loss:0.000375\n",
            "Training loss:0.191218\n",
            "test loss:0.000375\n",
            "Training loss:0.191190\n",
            "test loss:0.000375\n",
            "Training loss:0.191171\n",
            "test loss:0.000375\n",
            "Training loss:0.191188\n",
            "test loss:0.000375\n",
            "Training loss:0.191253\n",
            "test loss:0.000375\n",
            "Training loss:0.191299\n",
            "test loss:0.000375\n",
            "Training loss:0.191358\n",
            "test loss:0.000375\n",
            "Training loss:0.191465\n",
            "test loss:0.000375\n"
          ]
        }
      ],
      "source": [
        "#Training the neural network with relu activation function\n",
        "initial_epoch = 100\n",
        "\n",
        "for epoch in range(initial_epoch):\n",
        "\n",
        "  y_pred, loss = fit_relu(X_train,y_train)\n",
        "  y_pred_test, loss_test = fit_relu(X_test,y_test)\n",
        "        \n",
        "  loss_test = loss_test/(2*X_test.shape[0])\n",
        "  trainAcc = metrics(y_train,y_pred)\n",
        "  testAcc = metrics(y_test,y_pred_test)\n",
        "    \n",
        "  record_set[\"training_loss\"].append(loss)\n",
        "  record_set[\"testing_loss\"].append(loss_test)\n",
        "  record_set[\"train_acc\"].append(trainAcc)\n",
        "  record_set[\"test_acc\"].append(testAcc)\n",
        "    \n",
        "    \n",
        "  if epoch%10==5:\n",
        "    print(\"Training loss:%f\" %(loss))\n",
        "    print(\"test loss:%f\" %(loss_test))\n",
        " \n",
        "        \n",
        "  y_pred = np.array(y_pred)  \n",
        "\n",
        "\n",
        "  grad_w, bias = renew_bias(bias)\n",
        "    \n",
        "  weight = renew_w(grad_w)"
      ]
    },
    {
      "cell_type": "code",
      "execution_count": 52,
      "id": "DeM5F87dZZ4N",
      "metadata": {
        "colab": {
          "base_uri": "https://localhost:8080/",
          "height": 430
        },
        "id": "DeM5F87dZZ4N",
        "outputId": "a83a4f70-b760-49da-9bb0-9c7909f20c23"
      },
      "outputs": [
        {
          "output_type": "display_data",
          "data": {
            "text/plain": [
              "<Figure size 640x480 with 1 Axes>"
            ],
            "image/png": "[encoded data removed]"
          },
          "metadata": {}
        }
      ],
      "source": [
        "plt.plot(record_set['train_acc'],label='Training Accuracy',color='red')\n",
        "plt.plot(record_set['test_acc'],label='Test Accuracy',color='green')\n",
        "plt.legend(bbox_to_anchor=(1.05, 1), loc=2, borderaxespad=0.)\n",
        "plt.show()"
      ]
    },
    {
      "cell_type": "code",
      "execution_count": 53,
      "id": "Xf0rZT9HZ4cO",
      "metadata": {
        "id": "Xf0rZT9HZ4cO"
      },
      "outputs": [],
      "source": [
        "y_pred_cm = np.rint(y_pred)\n",
        "\n",
        "cm = confusion_matrix(y_train, y_pred_cm, labels=[0, 1])\n"
      ]
    },
    {
      "cell_type": "code",
      "execution_count": 54,
      "id": "WSjXp8ztZ4f9",
      "metadata": {
        "colab": {
          "base_uri": "https://localhost:8080/"
        },
        "id": "WSjXp8ztZ4f9",
        "outputId": "247084cf-5268-4aa4-a382-17f6b6ac8c45"
      },
      "outputs": [
        {
          "output_type": "stream",
          "name": "stdout",
          "text": [
            "===============\n",
            "Training accuracy: 61.700096\n",
            "Validation accuracy: 60.687023\n",
            "===============\n",
            "Training accuracy: 61.700096\n",
            "Validation accuracy: 60.687023\n",
            "===============\n",
            "Training accuracy: 61.700096\n",
            "Validation accuracy: 60.687023\n",
            "===============\n",
            "Training accuracy: 61.700096\n",
            "Validation accuracy: 60.687023\n",
            "===============\n",
            "Training accuracy: 61.700096\n",
            "Validation accuracy: 60.687023\n",
            "===============\n",
            "Training accuracy: 61.700096\n",
            "Validation accuracy: 60.687023\n",
            "===============\n",
            "Training accuracy: 61.700096\n",
            "Validation accuracy: 60.687023\n",
            "===============\n",
            "Training accuracy: 61.700096\n",
            "Validation accuracy: 60.687023\n",
            "===============\n",
            "Training accuracy: 61.700096\n",
            "Validation accuracy: 60.687023\n",
            "===============\n",
            "Training accuracy: 61.700096\n",
            "Validation accuracy: 60.687023\n",
            "===============\n",
            "Training accuracy: 61.700096\n",
            "Validation accuracy: 60.687023\n",
            "===============\n",
            "Training accuracy: 61.700096\n",
            "Validation accuracy: 60.687023\n",
            "===============\n",
            "Training accuracy: 61.700096\n",
            "Validation accuracy: 60.687023\n",
            "===============\n",
            "Training accuracy: 61.700096\n",
            "Validation accuracy: 60.687023\n",
            "===============\n",
            "Training accuracy: 61.700096\n",
            "Validation accuracy: 60.687023\n",
            "===============\n",
            "Training accuracy: 61.700096\n",
            "Validation accuracy: 60.687023\n",
            "===============\n",
            "Training accuracy: 61.700096\n",
            "Validation accuracy: 60.687023\n",
            "===============\n",
            "Training accuracy: 61.700096\n",
            "Validation accuracy: 60.687023\n",
            "===============\n",
            "Training accuracy: 61.700096\n",
            "Validation accuracy: 60.687023\n",
            "===============\n",
            "Training accuracy: 61.700096\n",
            "Validation accuracy: 60.687023\n"
          ]
        }
      ],
      "source": [
        "for epoch in range(initial_epoch):\n",
        "  if epoch%5 == 0: \n",
        "    print(\"===============\") \n",
        "    print(\"Training accuracy: %f\" %(trainAcc))\n",
        "    print(\"Validation accuracy: %f\" %(testAcc))"
      ]
    },
    {
      "cell_type": "code",
      "execution_count": 55,
      "id": "jPT5T_qzZ4jy",
      "metadata": {
        "colab": {
          "base_uri": "https://localhost:8080/"
        },
        "id": "jPT5T_qzZ4jy",
        "outputId": "631a6384-8549-4cae-b5ea-9b638481c171"
      },
      "outputs": [
        {
          "output_type": "stream",
          "name": "stdout",
          "text": [
            "F1 score: 0.76\n"
          ]
        }
      ],
      "source": [
        "tp = cm [0][0]\n",
        "fp = cm [1][0]\n",
        "tn = cm [1][1]\n",
        "fn = cm [0][1]\n",
        "\n",
        "precision = tp / (tp + fp)\n",
        "recall = tp / (tp + fn)\n",
        "\n",
        "f1 = 2 * (precision * recall) / (precision + recall)\n",
        "\n",
        "print(\"F1 score: {}\".format(round(f1,2)))"
      ]
    },
    {
      "cell_type": "code",
      "execution_count": 56,
      "id": "QbosurZZZ4nO",
      "metadata": {
        "id": "QbosurZZZ4nO"
      },
      "outputs": [],
      "source": [
        "# ==========================================================="
      ]
    },
    {
      "cell_type": "code",
      "execution_count": null,
      "id": "nQG5XPGMaG3f",
      "metadata": {
        "id": "nQG5XPGMaG3f"
      },
      "outputs": [],
      "source": []
    },
    {
      "cell_type": "code",
      "source": [],
      "metadata": {
        "id": "Vkxhx3vqPh-5"
      },
      "id": "Vkxhx3vqPh-5",
      "execution_count": null,
      "outputs": []
    },
    {
      "cell_type": "code",
      "execution_count": null,
      "id": "JODgMyBraG7m",
      "metadata": {
        "id": "JODgMyBraG7m"
      },
      "outputs": [],
      "source": []
    },
    {
      "cell_type": "code",
      "execution_count": null,
      "id": "cn4cbeZxaG_e",
      "metadata": {
        "id": "cn4cbeZxaG_e"
      },
      "outputs": [],
      "source": []
    },
    {
      "cell_type": "code",
      "execution_count": null,
      "id": "mhR7B3uPaHEh",
      "metadata": {
        "id": "mhR7B3uPaHEh"
      },
      "outputs": [],
      "source": []
    },
    {
      "cell_type": "code",
      "execution_count": null,
      "id": "c9wsu4RTaHJT",
      "metadata": {
        "id": "c9wsu4RTaHJT"
      },
      "outputs": [],
      "source": []
    }
  ],
  "metadata": {
    "colab": {
      "provenance": [],
      "include_colab_link": true
    },
    "kernelspec": {
      "display_name": "Python 3.10.5 64-bit",
      "language": "python",
      "name": "python3"
    },
    "language_info": {
      "codemirror_mode": {
        "name": "ipython",
        "version": 3
      },
      "file_extension": ".py",
      "mimetype": "text/x-python",
      "name": "python",
      "nbconvert_exporter": "python",
      "pygments_lexer": "ipython3",
      "version": "3.10.5"
    },
    "vscode": {
      "interpreter": {
        "hash": "369f2c481f4da34e4445cda3fffd2e751bd1c4d706f27375911949ba6bb62e1c"
      }
    }
  },
  "nbformat": 4,
  "nbformat_minor": 5
}